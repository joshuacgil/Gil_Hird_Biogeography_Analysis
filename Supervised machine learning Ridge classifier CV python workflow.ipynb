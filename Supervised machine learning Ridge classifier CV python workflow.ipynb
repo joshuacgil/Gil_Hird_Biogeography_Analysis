{
 "cells": [
  {
   "cell_type": "code",
   "execution_count": null,
   "id": "167e5b1a",
   "metadata": {},
   "outputs": [],
   "source": [
    "%matplotlib inline \n",
    "#import plotting functions\n",
    "import matplotlib.pyplot as plt\n",
    "import pandas as pd\n",
    "import numpy as np\n",
    "import csv\n",
    "import warnings"
   ]
  },
  {
   "cell_type": "code",
   "execution_count": null,
   "id": "55c8c460",
   "metadata": {
    "scrolled": true
   },
   "outputs": [],
   "source": [
    "#load the metadata\n",
    "metadata=pd.read_csv(\"$File location of metadata.csv\", header=0)\n",
    "metadata.tail(5)"
   ]
  },
  {
   "cell_type": "code",
   "execution_count": null,
   "id": "839f9f0b",
   "metadata": {},
   "outputs": [],
   "source": [
    "otu_rdp_assigned=pd.read_csv(\"$File location of taxa data.csv\", header=0,index_col=0)\n",
    "otu_rdp_assigned.transpose().head(5)"
   ]
  },
  {
   "cell_type": "code",
   "execution_count": null,
   "id": "eb2f9f0e",
   "metadata": {},
   "outputs": [],
   "source": [
    "#extract taxonomy information from the first column\n",
    "otu_taxon=otu_rdp_assigned.iloc[:,0]\n",
    "otu_taxon"
   ]
  },
  {
   "cell_type": "code",
   "execution_count": null,
   "id": "efa51c86",
   "metadata": {},
   "outputs": [],
   "source": [
    "otu_rdp_assigned.shape"
   ]
  },
  {
   "cell_type": "code",
   "execution_count": null,
   "id": "790c2c14",
   "metadata": {},
   "outputs": [],
   "source": [
    "#i skipped a lot of the code here because I did the preporcessing in R \n",
    "#get the sums since it is rarefyied it should be the same \n",
    "tot = otu_rdp_assigned.iloc[:,0:].sum(axis = 0)\n",
    "tot"
   ]
  },
  {
   "cell_type": "code",
   "execution_count": null,
   "id": "94691476",
   "metadata": {},
   "outputs": [],
   "source": [
    "#calc the rel abund\n",
    "#otu_genus_frac=otu_rdp_assigned.iloc[:,1:].divide(tot,axis=1)\n",
    "#otu_genus_frac.head(5)\n",
    "\n",
    "otu_genus_frac=otu_rdp_assigned.divide(tot,axis=1)\n",
    "otu_genus_frac.head()"
   ]
  },
  {
   "cell_type": "code",
   "execution_count": null,
   "id": "4858cd2c",
   "metadata": {},
   "outputs": [],
   "source": [
    "#first step is to reformat the data both the taxa and metadata\n",
    "#otu_genus_frac.transpose().head(5)\n",
    "otu_rdp_assigned.transpose()"
   ]
  },
  {
   "cell_type": "code",
   "execution_count": null,
   "id": "85b315e2",
   "metadata": {},
   "outputs": [],
   "source": [
    "#Define the variables in your metadata\n",
    "otu_model=otu_genus_frac.transpose()\n",
    "otu_model=otu_model.reset_index()\n",
    "otu_model=otu_model.rename(columns={'index':'$Sample_ID'})\n",
    "dat=otu_model.merge(metadata[['$Sample_ID','+ any other variables in your metadata']],on = '$Sample_ID', how = 'inner')\n",
    "dat #locational variables must be in some form of binary (ex. 0 and 1, -1 and 1, etc)"
   ]
  },
  {
   "cell_type": "code",
   "execution_count": null,
   "id": "dabcff50",
   "metadata": {},
   "outputs": [],
   "source": [
    "###Packages required for RidgeClassiferCV and crossvalidation###\n",
    "from sklearn.model_selection import train_test_split\n",
    "from sklearn.linear_model import RidgeClassifierCV\n",
    "\n",
    "#Cross validation \n",
    "from sklearn.model_selection import cross_val_score\n",
    "from sklearn.model_selection import RepeatedKFold\n",
    "from numpy import mean\n",
    "from numpy import std\n",
    "from numpy import absolute"
   ]
  },
  {
   "cell_type": "code",
   "execution_count": null,
   "id": "631f89d1",
   "metadata": {},
   "outputs": [],
   "source": [
    "#Main portion to train and test the model\n",
    "i = 0 # used for alternate method of cross validation\n",
    "\n",
    "train_accu = []\n",
    "test_accu = []\n",
    "train_sum = 0\n",
    "test_sum = 0 \n",
    "\n",
    "while i <1: #ALT cross validation method, change this number to how ever many times you want to retrain the model \n",
    "    warnings.filterwarnings(action='ignore') #We do this to keep the ouput clean\n",
    "    X_train, X_test, y_train, y_test = train_test_split(dat.drop(['$List of all unwanted varaible in dat file'], axis=1), dat['$Regional Variable of Interest'], test_size=0.2)\n",
    "    ridge_model = RidgeClassifierCV(alphas=[0.01,0.05,0.1,0.5,1,2,5,10], normalize=True) #tests the various alphas and picks the best one.\n",
    "    ridge_model.fit(X_train, y_train)\n",
    "    train = ridge_model.score(X_train,y_train)\n",
    "    test = ridge_model.score(X_test, y_test)\n",
    "    \n",
    "    train_accu.append(train)\n",
    "    test_accu.append(test)\n",
    "    \n",
    "    i += 1\n",
    "\n",
    "train_mean = str(np.mean(train_accu))\n",
    "train_std = str(np.std(train_accu))\n",
    "    \n",
    "test_mean = str(np.mean(test_accu))\n",
    "test_std = str(np.std(test_accu))\n",
    "\n",
    "print(\"Number of iterations: \" + str(i))\n",
    "\n",
    "print(\"Mean Training Accuracy: \" + train_mean + \" ± \" + train_std) #ALT cross validation method\n",
    "               \n",
    "print(\"Mean Test Accuracy: \" + test_mean + \" ± \" + test_std) #ALT cross vlaidation method\n",
    "\n",
    "# define model evaluation method\n",
    "cv = RepeatedKFold(n_splits=10, n_repeats=3, random_state=1)\n",
    "# evaluate model\n",
    "scores = cross_val_score(ridge_model, X_train, y_train, scoring='accuracy', cv=10, n_jobs=-1)\n",
    "# force scores to be positive\n",
    "scores = absolute(scores)\n",
    "\n",
    "print('Cross Valdiation Accuracy is: %.3f (%.3f)' % (mean(scores), std(scores)))"
   ]
  }
 ],
 "metadata": {
  "kernelspec": {
   "display_name": "Python 3 (ipykernel)",
   "language": "python",
   "name": "python3"
  },
  "language_info": {
   "codemirror_mode": {
    "name": "ipython",
    "version": 3
   },
   "file_extension": ".py",
   "mimetype": "text/x-python",
   "name": "python",
   "nbconvert_exporter": "python",
   "pygments_lexer": "ipython3",
   "version": "3.9.7"
  }
 },
 "nbformat": 4,
 "nbformat_minor": 5
}
